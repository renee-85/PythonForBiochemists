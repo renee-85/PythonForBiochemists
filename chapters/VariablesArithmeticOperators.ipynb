{
 "cells": [
  {
   "cell_type": "markdown",
   "id": "f6457f4a",
   "metadata": {},
   "source": [
    "# Variables and Arithmetic Operators"
   ]
  },
  {
   "cell_type": "markdown",
   "id": "2628f14e-326c-4042-a26d-8707fed52b9b",
   "metadata": {},
   "source": [
    "## <span style=\"color:blue\">Variables for saving values</span> ##\n",
    "---\n",
    "\n",
    "To save a value, we assign them to a __variable__ for later use.\n",
    "\n",
    "The syntax for assigning variables is:\n",
    "`variable_name = variable_value`.\n",
    "\n",
    "Use `print(variable_name)` to print the specified variable.\n",
    "\n",
    "Tips:\n",
    "\n",
    "- Choose informative names for variables.\n",
    "- Use comment lines (lines with `#`) to express the units of the variable or to describe the meaning of the variable."
   ]
  },
  {
   "cell_type": "markdown",
   "id": "24efdcf0-5a67-4100-b37f-03358d3fb37a",
   "metadata": {},
   "source": [
    "## <span style=\"color:blue\">Arithmetic operators for calculations</span> ##\n",
    "---\n",
    "\n",
    "Common __arithmetic operators__ are:\n",
    "\n",
    "- `+` for addition \n",
    "- `-` for subtraction \n",
    "- `*` for multiplication \n",
    "- `\\` for division \n",
    "- `**` for power operations."
   ]
  },
  {
   "cell_type": "markdown",
   "id": "dcdeee55",
   "metadata": {},
   "source": [
    "## <span style=\"color:blue\">Examples</span> ##\n",
    "---\n",
    "\n",
    "Please pay attention to the use of comments (with `#`) to express the units of variables or to describe the meaning of commands."
   ]
  },
  {
   "cell_type": "markdown",
   "id": "417fd246-33e1-474e-8eeb-07da4420a85b",
   "metadata": {},
   "source": [
    "```{Admonition} Example\n",
    ":class: note\n",
    "How many grams of solid NaOH (40.0 g/mol) are required to prepare 500 ml of a 40 mM solution?\n",
    "\n",
    "Use $Mass$ $(g)$ = $Molar$ $Concentration$ $(mol/l)$ x $Volume$ $(l)$ $Molecular$ $Weight$ $(g/mol)$\n",
    "```"
   ]
  },
  {
   "cell_type": "code",
   "execution_count": 1,
   "id": "95a54692",
   "metadata": {},
   "outputs": [
    {
     "name": "stdout",
     "output_type": "stream",
     "text": [
      "0.8\n"
     ]
    }
   ],
   "source": [
    "V = 0.5   #l\n",
    "M = 0.04   #mol/l\n",
    "MW = 40.0   #g/mol\n",
    "\n",
    "m = (V * M) * MW   #(l * mol/l) * g/mol = g\n",
    "\n",
    "print(m)   #print the value that we calculated"
   ]
  },
  {
   "cell_type": "markdown",
   "id": "c0762b9b-73c2-4a00-b538-59ea7b2ea0e1",
   "metadata": {},
   "source": [
    "```{Admonition} Example\n",
    ":class: note\n",
    "How many ml of a 1 M Tris solution do you need to make 5 ml of a 0.25 M solution?\n",
    "\n",
    "Use $C_{initial}$ $V_{initial}$ = $C_{final}$ $V_{final}$\n",
    "\n",
    "with\n",
    "\n",
    "- $V_{initial}$ = volume of stock solution needed to make the new solution\n",
    "- $C_{initial}$ = concentration of the stock solution\n",
    "- $V_{final}$ = final volume of the new solution\n",
    "- $C_{final}$ = final concentration of the new solution\n",
    "```"
   ]
  },
  {
   "cell_type": "code",
   "execution_count": 2,
   "id": "b650800f-e399-4dd7-9241-4f1c49815f18",
   "metadata": {},
   "outputs": [
    {
     "name": "stdout",
     "output_type": "stream",
     "text": [
      "1.25\n"
     ]
    }
   ],
   "source": [
    "Vfinal = 5   #ml\n",
    "Cfinal = 0.25   #mol/l\n",
    "Cinitial = 1   #mol/l\n",
    "\n",
    "Vinitial = (Cfinal * Vfinal) / Cinitial   #(mol/l * ml) / mol/l = ml\n",
    "\n",
    "print(Vinitial)   #print the value that we calculated"
   ]
  },
  {
   "cell_type": "markdown",
   "id": "427b6f20-24b3-4903-8926-4fcb63f67e82",
   "metadata": {},
   "source": [
    "## <span style=\"color:blue\">Exercises</span> ##\n",
    "---"
   ]
  },
  {
   "cell_type": "markdown",
   "id": "743485a3",
   "metadata": {},
   "source": [
    "```{admonition} Exercise\n",
    "You need 250 ml 50 mM NaCl. You have a 2 M NaCl stock solution. How many ml of 2 M NaCl do you need?\n",
    "```"
   ]
  },
  {
   "cell_type": "markdown",
   "id": "b26555cb-a036-4851-ba07-8fd1f4263481",
   "metadata": {},
   "source": [
    "````{admonition} Solution\n",
    ":class: dropdown\n",
    "\n",
    "Here's one possible solution.\n",
    "\n",
    "```{code-block} python\n",
    "Vfinal = 0.25   #l\n",
    "Cfinal = 0.05   #mol/l\n",
    "Cinitial = 2   #mol/l\n",
    "\n",
    "Vinitial = (Cfinal * Vfinal) / Cinitial   #(l * mol/l) / mol/l = l\n",
    "Vinitialml = Vinitial*1000   #l/1000 = ml\n",
    "\n",
    "print(Vinitialml)   #print the value that we calculated\n",
    "```\n",
    "````"
   ]
  },
  {
   "cell_type": "markdown",
   "id": "e1037a62-409c-40ec-94b0-41ec5d523048",
   "metadata": {},
   "source": [
    "```{admonition} Exercise\n",
    "You have 1 g of ATP (551.1 g/mol). You need a 100 mM solution. How much solution (in ml) can you make?\n",
    "```"
   ]
  },
  {
   "cell_type": "markdown",
   "id": "a5f0f43d-c08d-4278-a428-73ed9d7cc7fe",
   "metadata": {},
   "source": [
    "````{admonition} Solution\n",
    ":class: dropdown\n",
    "\n",
    "Here's one possible solution.\n",
    "\n",
    "```{code-block} python\n",
    "m = 1   #g\n",
    "M = 0.1   #mol/l\n",
    "MW = 551.1   #g/mol\n",
    "\n",
    "V = (m / MW) / M   #(g * g/mol) * mol/l = l\n",
    "Vml = V*1000   #l/1000 = ml\n",
    "\n",
    "print(Vml)   #print the value that we calculated\n",
    "```\n",
    "````"
   ]
  }
 ],
 "metadata": {
  "kernelspec": {
   "display_name": "Python 3 (ipykernel)",
   "language": "python",
   "name": "python3"
  },
  "language_info": {
   "codemirror_mode": {
    "name": "ipython",
    "version": 3
   },
   "file_extension": ".py",
   "mimetype": "text/x-python",
   "name": "python",
   "nbconvert_exporter": "python",
   "pygments_lexer": "ipython3",
   "version": "3.12.3"
  }
 },
 "nbformat": 4,
 "nbformat_minor": 5
}
