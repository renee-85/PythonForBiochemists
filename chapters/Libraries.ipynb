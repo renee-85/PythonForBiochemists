{
 "cells": [
  {
   "cell_type": "markdown",
   "metadata": {},
   "source": [
    "# Libraries"
   ]
  },
  {
   "cell_type": "markdown",
   "metadata": {},
   "source": [
    "Creating our own functions can be useful _and fun_, but others may have already written them and made them available through __libraries__. There are many different Python libraries available. So, for most of the time, we will use functions that others have written."
   ]
  },
  {
   "cell_type": "markdown",
   "metadata": {},
   "source": [
    "## <span style=\"color:blue\">Importing libraries</span> ##\n",
    "---\n",
    "\n",
    "We need to `import` libraries before we can use them. __Importing a library__ means loading it into the memory so it is there when we need to work with it.\n",
    "\n",
    "We use convenient naming to access them. The library name is followed by `as`, the name following is used as the local name. _E.g._ we use `import numpy as np` and we write `np.command` instead of `numpy.command`; `import pandas as pd` and we write `pd.command` instead of `pandas.command` ..."
   ]
  },
  {
   "cell_type": "code",
   "execution_count": 1,
   "metadata": {},
   "outputs": [],
   "source": [
    "import numpy as np\n",
    "import pandas as pd"
   ]
  },
  {
   "cell_type": "markdown",
   "metadata": {},
   "source": [
    "## <span style=\"color:blue\">Using modules</span> ##\n",
    "---\n",
    "\n",
    "Libraries usually contain lots of __modules__ that themselves contain several functions.\n",
    "\n",
    "For example, the commonly used matplotlib library (which is used for creating static, animated, and interactive visualizations), has a `pyplot` module (which is a state-based interface to matplotlib). We can choose to only import this module using `import matplotlib.pyplot as plt` and afterwards, we write `plt.command` instead of `matplotlib.pyplot.command`.\n",
    "\n",
    "Another example is the `optimize` module with the `curve_fit` function (which is used for non-linear least-squares fitting) from the SciPy library (which is used for scientific and technical computing). To only import this function, we can use the `from` construct."
   ]
  },
  {
   "cell_type": "code",
   "execution_count": 2,
   "metadata": {},
   "outputs": [],
   "source": [
    "import matplotlib.pyplot as plt\n",
    "from scipy.optimize import curve_fit"
   ]
  },
  {
   "cell_type": "markdown",
   "metadata": {},
   "source": [
    "## __<font color=blue>Examples and documentation</font>__\n",
    "---\n",
    "\n",
    "- [OS](https://docs.python.org/3/library/os.html) to interact with the operating system.\n",
    "- [NumPy](http://www.numpy.org/) is the linear algebra library for scientific computing.\n",
    "- [Matplotlib](https://matplotlib.org/) is a commonly used plotting library.\n",
    "- [Pandas](http://pandas.pydata.org/) to import data from, for example, an Excel file and to create a DataFrame. Its ease of use makes it ideal to work with large data sets.\n",
    "- Differential equations and curve-fitting are solved in Python with the [SciPy](https://docs.scipy.org/doc/scipy/reference/index.html) package.\n",
    "- [Seaborn](https://seaborn.pydata.org/) for statistical data exploration.\n",
    "- [SciKit-Learn](http://scikit-learn.org/stable/) for machine learning.\n",
    "- [nglview](http://nglviewer.org/nglview/latest/) for interactive molecular graphics.\n",
    "- [OpenMM](https://openmm.org/) for molecular dynamic simulations.\n",
    "- [MDAnalysis](https://www.mdanalysis.org/) to analyze trajectories from molecular dynamics simulations.\n",
    "- [Kinetics](https://kinetics.readthedocs.io/en/latest/index.html) to model multi-enzyme reactions with uncertainty\n",
    "- ..."
   ]
  },
  {
   "cell_type": "code",
   "execution_count": null,
   "metadata": {},
   "outputs": [],
   "source": []
  }
 ],
 "metadata": {
  "kernelspec": {
   "display_name": "Python 3 (ipykernel)",
   "language": "python",
   "name": "python3"
  },
  "language_info": {
   "codemirror_mode": {
    "name": "ipython",
    "version": 3
   },
   "file_extension": ".py",
   "mimetype": "text/x-python",
   "name": "python",
   "nbconvert_exporter": "python",
   "pygments_lexer": "ipython3",
   "version": "3.12.3"
  },
  "widgets": {
   "application/vnd.jupyter.widget-state+json": {
    "state": {},
    "version_major": 2,
    "version_minor": 0
   }
  }
 },
 "nbformat": 4,
 "nbformat_minor": 4
}
