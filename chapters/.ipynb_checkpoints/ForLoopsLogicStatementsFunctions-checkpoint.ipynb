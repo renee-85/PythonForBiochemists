{
 "cells": [
  {
   "cell_type": "markdown",
   "id": "c4a8d976-63a1-4b94-b7c8-af9fc5ae55fb",
   "metadata": {},
   "source": [
    "# For Loops, Logic Statements, and Functions"
   ]
  },
  {
   "cell_type": "markdown",
   "id": "a706429b-e43c-471b-9afa-cda07bc2dfaf",
   "metadata": {},
   "source": [
    "## <span style=\"color:blue\">For loops to perform the same action on the items in a sequence</span> ##\n",
    "---\n",
    "\n",
    "### <span style=\"color:red\">Working with sequences</span> ###\n",
    "---\n",
    "\n",
    "To execute a (set of) statement(s) once for each item in _a sequence (_e.g._ a string, list, or tuple)_, we use a __for loop__. The syntax for a for loop is:\n",
    "\n",
    "```\n",
    "for variable in sequence_name:\n",
    "    statement(s)\n",
    "```\n",
    "\n",
    "The variable accesses each item of the sequence on each iteration. After the sequence name, we find a colon (:). The statement(s) is (are) __indented__ using whitespace. The loop continues until we reach the last item in the sequence.\n",
    "\n",
    "Use `sequence_name.append(new_item)` to save the outputs of the statement(s) in a new sequence: this function __appends__ a new item to the end of an existing sequence. Make sure to first create the new sequence outside of the loop!\n",
    "\n",
    "### <span style=\"color:red\">Working with dictionaries</span> ###\n",
    "---\n",
    "\n",
    "To iterate over _a dictionary_, use:\n",
    "\n",
    "```\n",
    "for key, value in dictionary_name.items():\n",
    "    statement(s)\n",
    "```\n",
    "\n",
    "Of note, the `items()` method returns an object with key-value pairs of the dictionary, as tuples in a list."
   ]
  },
  {
   "cell_type": "markdown",
   "id": "0a69be5d-4731-41e1-b6ff-23acd18b4ec4",
   "metadata": {},
   "source": [
    "## <span style=\"color:blue\">Functions</span> ##\n",
    "---\n",
    "\n",
    "A __function__ is a block of code which only runs when it is called. The function needs __parameters__ to run. These are specified after the function name. The syntax for a function is:\n",
    "\n",
    "```\n",
    "def function_name(parameter(s)):\n",
    "  \"\"\"\n",
    "  documentation\n",
    "  \"\"\"\n",
    "  block_of_code\n",
    "  return value_to_return.\n",
    "```\n",
    "\n",
    "- We first __define__ the function name and parameters using `def`.\n",
    "- The optional documentation section, between \"\"\" and \"\"\", contains information about what the function does, including the parameters and what is returned.\n",
    "- The code of the function.\n",
    "- Use the __return__ statement to let a function return its result. It is possible return more than one variable from a function. These will be returned as a tuple of variables, which may require unpacking as appropriate.\n",
    "\n",
    "After creating a function in Python we can call it by using the name of the function followed by parenthesis containing parameters of that particular function."
   ]
  },
  {
   "cell_type": "markdown",
   "id": "d8627366-0d90-4e03-ba9b-f74958da6c1f",
   "metadata": {},
   "source": [
    "## <span style=\"color:blue\">Logic statements to make choices</span> ##\n",
    "---\n",
    "\n",
    "Use `if`, `elif`, and / or `else` statements to evaluate a variable and do something if the variable has a particular value.\n",
    "\n",
    "Operations include:\n",
    "\n",
    "- equal to `==`\n",
    "- not equal to `!=`\n",
    "- greater than `>`\n",
    "- less than `<`\n",
    "- greater than or equal to `>=`\n",
    "- less than or equal to `<=`\n",
    "\n",
    "Use `and`, `or`, and `not` to check more than one condition."
   ]
  },
  {
   "cell_type": "markdown",
   "id": "f08de7c3-cb5e-4d12-9ce1-d89a75257645",
   "metadata": {},
   "source": [
    "## <span style=\"color:blue\">Examples</span> ##\n",
    "---\n",
    "\n",
    "Please pay attention to the use of comments (with `#`) to express the units of variables or to describe the meaning of commands."
   ]
  },
  {
   "cell_type": "markdown",
   "id": "621016dc-c689-4aaf-a533-ff59ded37e11",
   "metadata": {},
   "source": [
    "```{Admonition} Example\n",
    ":class: note\n",
    "Calculate the $pK_{b}$ values of aspartate using its $pK_{a}$ values (2.10, 3.86, 9.82) and save them in a new list.\n",
    "```"
   ]
  },
  {
   "cell_type": "code",
   "execution_count": 1,
   "id": "4c5d54f8-f97b-43a1-abc6-ce7beeaf94df",
   "metadata": {},
   "outputs": [
    {
     "name": "stdout",
     "output_type": "stream",
     "text": [
      "[11.9, 10.14, 4.18]\n"
     ]
    }
   ],
   "source": [
    "pKa_asp = [2.10, 3.86, 9.82]   #create a list with floats\n",
    "\n",
    "pKb_asp = []   #create a new, empty list \n",
    "\n",
    "for pKa in pKa_asp:   #select each item from the existing list\n",
    "    pKb = 14 - pKa   #calculate for each item from the existing list the pKb\n",
    "    pKb_asp.append(pKb)   #append the pKb calculated to the newly created list\n",
    "\n",
    "print(pKb_asp)   #print the list that we calculated"
   ]
  },
  {
   "cell_type": "markdown",
   "id": "5fcad719-5a63-45a3-bf4f-6e9a45745daf",
   "metadata": {},
   "source": [
    "```{Admonition} Example\n",
    ":class: note\n",
    "Create _and test_ a function that calculates the concentration of a solution using the Beer-Lambert law. Parameters include the molar extinction coefficient, absorbance, and cuvette pathlength.\n",
    "```"
   ]
  },
  {
   "cell_type": "code",
   "execution_count": 2,
   "id": "77f8af50-9c7f-4a0b-bd24-dcdffb372a3b",
   "metadata": {},
   "outputs": [],
   "source": [
    "def beer_lambert(epsilon, absorbance, pathlength):   #create the function\n",
    "    \"\"\"\n",
    "    Calculate the concentration of a solution, using the Beer-Lambert law.\n",
    "    Args:\n",
    "        epsilon (float) in L/(mol cm)\n",
    "        absorbance (float) in AU\n",
    "        pathlength (float) in cm\n",
    "    Returns:\n",
    "        concentration of the solution (float) in (mol/L)\n",
    "    \"\"\"\n",
    "    concentration = absorbance / (epsilon * pathlength)\n",
    "    return concentration"
   ]
  },
  {
   "cell_type": "code",
   "execution_count": 3,
   "id": "e1cd0ccc-5920-4e07-8fdf-2538665fc7a0",
   "metadata": {},
   "outputs": [
    {
     "data": {
      "text/plain": [
       "4.238095238095238e-05"
      ]
     },
     "execution_count": 3,
     "metadata": {},
     "output_type": "execute_result"
    }
   ],
   "source": [
    "beer_lambert(21000, 0.89, 1)   #test the function with random but reasonable parameters"
   ]
  },
  {
   "cell_type": "markdown",
   "id": "7c71a7d5-c07c-421e-bc02-ab1b6247a377",
   "metadata": {},
   "source": [
    "```{Admonition} Example\n",
    ":class: note\n",
    "Create _and test_ a function that gives the charge of a protein. Parameters include the pH of the solution and the isoelectric point of the protein.\n",
    "``"
   ]
  },
  {
   "cell_type": "code",
   "execution_count": 4,
   "id": "f059264b-0e5b-40ab-bf86-ddab8eccaf9d",
   "metadata": {},
   "outputs": [],
   "source": [
    "def prot_charge(pH, pI):   #create the function\n",
    "    if pH > pI:   #if greater then\n",
    "      print(\"pH is above pI, the protein is negatively charged\")   #print the outcome\n",
    "    elif pH == pI:   #if equal to\n",
    "      print(\"pH and pI are equal, the protein has no net charge\")   #print the outcome\n",
    "    else:   #if smaller then\n",
    "      print(\"pH is below pI, the protein is positively charged\")   #print the outcome"
   ]
  },
  {
   "cell_type": "code",
   "execution_count": 5,
   "id": "09bbba7a-4b82-46f9-bbaa-f88577514984",
   "metadata": {},
   "outputs": [
    {
     "name": "stdout",
     "output_type": "stream",
     "text": [
      "pH is below pI, the protein is positively charged\n"
     ]
    }
   ],
   "source": [
    "prot_charge(5.4, 7.5)   #test the function with random but reasonable parameters"
   ]
  },
  {
   "cell_type": "markdown",
   "id": "a2414f09-6791-4b41-8058-529fc091fcd4",
   "metadata": {},
   "source": [
    "## <span style=\"color:blue\">Exercises</span> ##\n",
    "---"
   ]
  },
  {
   "cell_type": "markdown",
   "id": "b2889436-c184-434a-9dd1-b44f4d52ae2e",
   "metadata": {},
   "source": [
    "````{admonition} Exercise\n",
    "Count the number of restriction enzyme sites for EcoRI, BamHI, EarI, ScaI, NotI, TaqI, FokI, and HindIII in the following DNA sequence.\n",
    "\n",
    "_Tip: Use the dictionary from earlier!_\n",
    "\n",
    "```{code-block} python\n",
    "DNAseq = \"GTAAAACGACGGCCAGTGAATTCGAGCTCGGTACCCGGGGATCCTCTAGAGTCGACCTGCAGGCATGCAAGCTTGGCGTAATCATGGTCATAGCTGTTTCCTG\"   #create a string using double quotation marks\n",
    "```\n",
    "````"
   ]
  },
  {
   "cell_type": "markdown",
   "id": "948a7cef-4aa3-4a02-a1cb-ae8a6168443a",
   "metadata": {},
   "source": [
    "````{admonition} Solution\n",
    ":class: dropdown\n",
    "\n",
    "Here's one possible solution.\n",
    "\n",
    "```{code-block} python\n",
    "REs = {\n",
    "    'EcoRI' : 'GAATTC',\n",
    "    'BamHI' : 'GGATCC',\n",
    "    'EarI' : 'CTCTTC',\n",
    "    'ScaI' : 'AGTACT',\n",
    "    'NotI' : 'GCGGCCGC',\n",
    "    'TaqI' : 'TCGA',\n",
    "    'FokI' : 'GGATG',\n",
    "    'HindIII' : 'AAGCTT'\n",
    "    }   #Create a dictionary with restriction enzyme names (keys) and cleavage sites (values). Both are strings.\n",
    "\n",
    "for name, site in REs.items():   #select for each item from the existing dictionary key and value\n",
    "    count = DNAseq.count(site)   #count the number of times the site appears in the string\n",
    "    print(\"For\", name, \", there are\", count, \"sites .\")   #Print and place all values that we calculated in a readable sentence. The print function can take more than one object. By default, it separates objects with a space.\n",
    "```\n",
    "````"
   ]
  },
  {
   "cell_type": "markdown",
   "id": "95e827e9-49a6-4815-86eb-a0326ed5d160",
   "metadata": {},
   "source": [
    "```{admonition} Exercise\n",
    "Create and test a function that accepts a DNA sequence and outputs the complementary and reverse complementary strand.\n",
    "\n",
    "_Tip: To complement a DNA sequence, one needs to replace A with T, T with A, C with G and G with C. The reverse complement is the reverse of the complement sequence (i.e. the first base becomes the last). For example, for the strand 5'-AAGCCGA-3', the complementary strand is 3'-TTCGGCT-5' and the reverse complementary strand is 5'-TCGGCTT-3'._\n",
    "```"
   ]
  },
  {
   "cell_type": "markdown",
   "id": "7cc10d28-d12f-4ed5-b875-e811fe7f2d88",
   "metadata": {},
   "source": [
    "````{admonition} Solution\n",
    ":class: dropdown\n",
    "\n",
    "Here are some possible solutions.\n",
    "\n",
    "OPTION 1: Using logic statements\n",
    "```{code-block} python\n",
    "def comp_revcomp(DNAstring):   #create the function\n",
    "    \n",
    "    Comp = \"\"   #create a new, empty string\n",
    "    \n",
    "    for base in DNAstring:   #select each item from the DNAstring\n",
    "        if base == \"T\":   #if the base is T\n",
    "            Comp = Comp + \"A\"   #replace it by A and add to the new string\n",
    "        elif base == \"A\":   #if the base is T\n",
    "            Comp = Comp + \"T\"   #replace it by T and add to the new string\n",
    "        elif base == \"C\":   #if the base is C\n",
    "            Comp = Comp + \"G\"   #replace it by G and add to the new string\n",
    "        elif base == \"G\":   #if the base is G\n",
    "            Comp = Comp + \"C\"   #replace it by C and add to the new string\n",
    "        else:   #if the base is not T, A, C, or G\n",
    "            Comp = Comp + \"N\"   #replace it by N and add to the new string\n",
    "    \n",
    "    revComp = Comp[::-1]   #reverse the new string: start at the end of the string and end at position 0, move with step -1, which is one step backwards\n",
    "            \n",
    "    print(\"For 5'-\", DNAstring, \"-3', the complement is 3'-\", Comp, \"-5' .\", \"The reverse complement is 5'-\", revComp, \"-3' .\")   #Print and place all values that we calculated in a readable sentence. The print function can take more than one object. By default, it separates objects with a space.\n",
    "\n",
    "comp_revcomp(\"AAGCCGA\")   #test the function with random but reasonable parameters\n",
    "```\n",
    "\n",
    "\n",
    "OPTION 2: Using a dictionary\n",
    "```{code-block} python\n",
    "def comp_revcomp2(DNAstring):   #create the function\n",
    "    \n",
    "    BaseComp = {\n",
    "        'A' : 'T',\n",
    "        'T' : 'A',\n",
    "        'C' : 'G',\n",
    "        'G' : 'C'\n",
    "    }   #Create a dictionary with complementary base pairs.\n",
    "\n",
    "    comp = \"\".join(BaseComp.get(x) for x in DNAstring)   #Loop through the bases of the DNAstring and write the complementary base pair from the dictionary. Convert the generated list to a string using the join function, see https://www.programiz.com/python-programming/methods/string/join.\n",
    "    revcomp = comp[::-1]   #reverse the new string: start at the end of the string and end at position 0, move with step -1, which is one step backwards\n",
    "\n",
    "    print(\"For 5'-\", DNAstring, \"-3', the complement is 3'-\", comp, \"-5' .\", \"The reverse complement is 5'-\", revcomp, \"-3' .\")   #Print and place all values that we calculated in a readable sentence. The print function can take more than one object. By default, it separates objects with a space.\n",
    "\n",
    "comp_revcomp2(\"AAGCCGA\")   #test the function with random but reasonable parameters\n",
    "```\n",
    "\n",
    "\n",
    "OPTION 3: With maketrans() and translate() functions, see [https://www.geeksforgeeks.org/python-maketrans-translate-functions/](https://www.geeksforgeeks.org/python-maketrans-translate-functions/).\n",
    "```{code-block} python\n",
    "def comp_revcomp3(DNAstring):   #create the function\n",
    "    \n",
    "    mydictcomp = str.maketrans(\"ATCG\",\"TAGC\")   #use maketrans() to construct the translate table: A (from string 1) becomes T (from string 2), T becomes A ...\n",
    "\n",
    "    comp = DNAstring.translate(mydictcomp)   #use translate() to perform the translations\n",
    "    revcomp = comp[::-1]   #reverse the new string: start at the end of the string and end at position 0, move with step -1, which is one step backwards\n",
    "\n",
    "    print(\"For 5'-\", DNAstring, \"-3', the complement is 3'-\", comp, \"-5' .\", \"The reverse complement is 5'-\", revcomp, \"-3' .\")   #Print and place all values that we calculated in a readable sentence. The print function can take more than one object. By default, it separates objects with a space.\n",
    "\n",
    "comp_revcomp3(\"AAGCCGA\")   #test the function with random but reasonable parameters\n",
    "```\n",
    "\n",
    "\n",
    "OPTION 4:\n",
    "Use Biopython, a set of freely available tools for biological computation written in Python by an international team of developers. Available via [https://biopython.org/](https://biopython.org/).\n",
    "````"
   ]
  },
  {
   "cell_type": "markdown",
   "id": "fd4cbce5-7097-4689-955e-3a16ec99bbbb",
   "metadata": {},
   "source": [
    "````{admonition} Exercise\n",
    "Create and test a function that gives the molecular weight of a peptide from the one-letter amino acid code and the amino acid monoisotopic masses.\n",
    "\n",
    "```{code-block} python\n",
    "MonoIsoMassAA = {'A': 71.04,\n",
    "                 'C': 103.01,\n",
    "                 'D': 115.03,\n",
    "                 'E': 129.04,\n",
    "                 'F': 147.07,\n",
    "                 'G': 57.02,\n",
    "                 'H': 137.06,\n",
    "                 'I': 113.08,\n",
    "                 'K': 128.09,\n",
    "                 'L': 113.08,\n",
    "                 'M': 131.04,\n",
    "                 'N': 114.04,\n",
    "                 'P': 97.05,\n",
    "                 'Q': 128.06,\n",
    "                 'R': 156.10,\n",
    "                 'S': 87.03,\n",
    "                 'T': 101.05,\n",
    "                 'V': 99.07,\n",
    "                 'W': 186.08,\n",
    "                 'Y': 163.06\n",
    "                 }   #Create a dictionary with amino acid name (keys) and monoisopic mass (values).\n",
    "```\n",
    "````"
   ]
  },
  {
   "cell_type": "markdown",
   "id": "ade80442-9d4d-4a16-95a1-6243bf03319a",
   "metadata": {},
   "source": [
    "````{admonition} Solution\n",
    ":class: dropdown\n",
    "\n",
    "Here are some possible solutions.\n",
    "\n",
    "OPTION 1:\n",
    "```{code-block} python\n",
    "def protmass(ProteinString):   #create the function\n",
    "\n",
    "    weight = 0   #start with 0 g/mol\n",
    "\n",
    "    for code, mass in MonoIsoMassAA.items():   #select for each item from the existing dictionary key and value\n",
    "        count = ProteinString.count(code)   #count the number of times the amino acid appears in the ProteinString\n",
    "        weight = weight + count * mass   #Multiply the number of times this amino acid appears with its isotopic mass. Add this number to the current weight.\n",
    "    \n",
    "    return weight + 18.01   #return the weight + 18.01, the mass of water\n",
    "    \n",
    "protmass(\"AVATAR\")   #test the function with random but reasonable parameters\n",
    "```\n",
    "\n",
    "\n",
    "OPTION 2:\n",
    "```{code-block} python\n",
    "def protmass2(ProteinString):   #create the function\n",
    "    \n",
    "    weight = sum(MonoIsoMassAA.get(x) for x in ProteinString)   #Loop through the amino acids of the Proteinstring and get their corresponding monoisotopic mass. These are summed.\n",
    "    \n",
    "    return weight + 18.01   #return the weight + 18.01, the mass of water\n",
    "\n",
    "protmass2(\"AVATAR\")   #test the function with random but reasonable parameters\n",
    "```\n",
    "\n",
    "\n",
    "OPTION 3:\n",
    "```{code-block} python\n",
    "def protmass3(ProteinString):   #create the function\n",
    "    \n",
    "    weight = sum(map(MonoIsoMassAA.get, ProteinString))   #The map() function executes a specified function - in this case monoisotopicMassAA.get - for each amino acid of the Proteinstring. It returns the monoisotopic masses from the dictionary, which are summed.\n",
    "    \n",
    "    return weight + 18.01   #return the weight + 18.01, the mass of water\n",
    "\n",
    "protmass3(\"AVATAR\")   #test the function with random but reasonable parameters\n",
    "```\n",
    "\n",
    "\n",
    "OPTION 4:\n",
    "Use Biopython, a set of freely available tools for biological computation written in Python by an international team of developers. Available via [https://biopython.org/](https://biopython.org/).\n",
    "\n",
    "````"
   ]
  }
 ],
 "metadata": {
  "kernelspec": {
   "display_name": "Python 3 (ipykernel)",
   "language": "python",
   "name": "python3"
  },
  "language_info": {
   "codemirror_mode": {
    "name": "ipython",
    "version": 3
   },
   "file_extension": ".py",
   "mimetype": "text/x-python",
   "name": "python",
   "nbconvert_exporter": "python",
   "pygments_lexer": "ipython3",
   "version": "3.12.3"
  }
 },
 "nbformat": 4,
 "nbformat_minor": 5
}
