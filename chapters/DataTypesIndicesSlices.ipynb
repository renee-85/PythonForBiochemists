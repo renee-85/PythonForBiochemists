{
 "cells": [
  {
   "cell_type": "markdown",
   "id": "dd2c1a52-96cf-492f-a743-a32e7e7f0193",
   "metadata": {},
   "source": [
    "# Data Types, Index, and Slice"
   ]
  },
  {
   "cell_type": "markdown",
   "id": "01c87e55-7421-424a-8649-c8f40993e8f8",
   "metadata": {},
   "source": [
    "## <span style=\"color:blue\">Data types</span> ##\n",
    "---\n",
    "\n",
    "In Python, the __data type__ is set when we assign a value to a variable. Different data types can do different things.\n",
    "\n",
    "The most common data types are\n",
    "\n",
    "- __Strings__ (`str`) for text (surrounded by either single quotation marks or double quotation marks)\n",
    "- __Integers__ (`int`) for whole numbers, positive or negative, without decimals, of unlimited length\n",
    "- __Floating point numbers__ (`float`) for numbers, positive or negative, containing one or more decimals\n",
    "- __Booleans__ (`bool`), with only two possible values: `true` and `false`\n",
    "- __Lists__ (`list`) for multiple ordered and changeable items of different data types within one variable (created using square brackets)\n",
    "- __Tuples__ (`tuple`) for multiple ordered and unchangeable items of different data types within one variable (created using round brackets)\n",
    "- __Dictionaries__ (`dict`) for storing a collection of ordered, changeable, and non-duplicate data as “key : value” pairs (created using curly brackets; pairs are separated using commas, and keys and values are separated using colons)\n",
    "\n",
    "Use `type(variable_name)` to identify the data type of any variable.\n",
    "\n",
    "Use `len(sequence_name)` to determine the __length__ of a sequence (_e.g._ a string, list, or tuple). Use `sequence_name.count(value)` to __count__ the number of items with a specified value within a sequence.\n",
    "\n",
    "Use `sorted(list_name, key=myFunc (optional), reverse=True (optional))` to __sort__ a list in ascending (by default), descending (optional) or user-defined (optional) order. The original list variable is unchanged. Of note, strings are sorted in alphabetical order based on their first letter (A-Z). However, words that start with uppercase letters come before words that start with lowercase letters. For case-insensitive sorting, set the key argument to `key=str.lower`, which converts all strings to lowercase characters.\n",
    "\n",
    "Use `dictionary_name.get(key_name)` to return the __value of a specified key__ in a dictionary. If the key is not found, it returns `None`."
   ]
  },
  {
   "cell_type": "markdown",
   "id": "75b5dfb2-7978-4a49-b456-956ff69104fc",
   "metadata": {},
   "source": [
    "## <span style=\"color:blue\">Index and slice for sequence-based data types</span> ##\n",
    "---\n",
    "\n",
    "Sequence-based data types (_e.g._ a string, list, or tuple) are __indexed__, with __the first item having index 0_. To select the first item, use `sequence_name[0]`; to select the second item, use `sequence_name[1]` …\n",
    "\n",
    "If we have a long sequence and want to select an item towards the end, we can count backwards, starting at the index number -1.\n",
    "\n",
    "The syntax for selecting a subset of an existing sequence, a __slice__, is: `sequence_name[start:end]`. When we specify the end item for the slice, it _goes up to but does not include_ that item of the sequence!\n",
    "\n",
    "Use `sequence_name[:end]` to have the slice starting from the beginning of the sequence. Use `sequence_name[start:]` to have the slice going to the end of the sequence.\n",
    "\n",
    "The syntax for selecting a slice with regular steps, is: `sequence_name[start:end:step]`. A negative `step` goes backwards. For example, use `sequence_name[::2]` to select every other element from the sequence, and use `sequence_name[::-1]` to select the elements in reverse order.\n",
    "\n",
    "```{image} ./Images-DataTypesIndicesSlices/IndexingSlicing.png\n",
    ":alt: Indexing and slicing sequence-based data types\n",
    ":width: 600px\n",
    ":align: center\n",
    "```"
   ]
  },
  {
   "cell_type": "markdown",
   "id": "c58e1336-f0a6-4115-a7bb-2815a62d2575",
   "metadata": {},
   "source": [
    "## <span style=\"color:blue\">Examples</span> ##\n",
    "---\n",
    "\n",
    "Please pay attention to the use of comments (with `#`) to express the units of variables or to describe the meaning of commands."
   ]
  },
  {
   "cell_type": "markdown",
   "id": "ac7e261a-fd31-429f-a7ce-6815d0a79e5d",
   "metadata": {},
   "source": [
    "```{Admonition} Example\n",
    ":class: note\n",
    "Determine the data type, length, and number of tryptophan residues for this LRRK2 protein sequence containing one letter code amino acids. Select residue 2019. The G2019S mutation in LRRK2 is the most common genetic determinant of Parkinson's disease identified to date. It lies in the protein's kinase domain. Select this kinase domain, it includes residue 1879 to residue 2138.\n",
    "```"
   ]
  },
  {
   "cell_type": "code",
   "execution_count": 1,
   "id": "446f9ee5-6ff4-4a59-ab21-e2260b7d2054",
   "metadata": {},
   "outputs": [],
   "source": [
    "protseqLRRK2 = \"MASGSCQGCEEDEETLKKLIVRLNNVQEGKQIETLVQILEDLLVFTYSERASKLFQGKNIHVPLLIVLDSYMRVASVQQVGWSLLCKLIEVCPGTMQSLMGPQDVGNDWEVLGVHQLILKMLTVHNASVNLSVIGLKTLDLLLTSGKITLLILDEESDIFMLIFDAMHSFPANDEVQKLGCKALHVLFERVSEEQLTEFVENKDYMILLSALTNFKDEEEIVLHVLHCLHSLAIPCNNVEVLMSGNVRCYNIVVEAMKAFPMSERIQEVSCCLLHRLTLGNFFNILVLNEVHEFVVKAVQQYPENAALQISALSCLALLTETIFLNQDLEEKNENQENDDEGEEDKLFWLEACYKALTWHRKNKHVQEAACWALNNLLMYQNSLHEKIGDEDGHFPAHREVMLSMLMHSSSKEVFQASANALSTLLEQNVNFRKILLSKGIHLNVLELMQKHIHSPEVAESGCKMLNHLFEGSNTSLDIMAAVVPKILTVMKRHETSLPVQLEALRAILHFIVPGMPEESREDTEFHHKLNMVKKQCFKNDIHKLVLAALNRFIGNPGIQKCGLKVISSIVHFPDALEMLSLEGAMDSVLHTLQMYPDDQEIQCLGLSLIGYLITKKNVFIGTGHLLAKILVSSLYRFKDVAEIQTKGFQTILAILKLSASFSKLLVHHSFDLVIFHQMSSNIMEQKDQQFLNLCCKCFAKVAMDDYLKNVMLERACDQNNSIMVECLLLLGADANQAKEGSSLICQVCEKESSPKLVELLLNSGSREQDVRKALTISIGKGDSQIISLLLRRLALDVANNSICLGGFCIGKVEPSWLGPLFPDKTSNLRKQTNIASTLARMVIRYQMKSAVEEGTASGSDGNFSEDVLSKFDEWTFIPDSSMDSVFAQSDDLDSEGSEGSFLVKKKSNSISVGEFYRDAVLQRCSPNLQRHSNSLGPIFDHEDLLKRKRKILSSDDSLRSSKLQSHMRHSDSISSLASEREYITSLDLSANELRDIDALSQKCCISVHLEHLEKLELHQNALTSFPQQLCETLKSLTHLDLHSNKFTSFPSYLLKMSCIANLDVSRNDIGPSVVLDPTVKCPTLKQFNLSYNQLSFVPENLTDVVEKLEQLILEGNKISGICSPLRLKELKILNLSKNHISSLSENFLEACPKVESFSARMNFLAAMPFLPPSMTILKLSQNKFSCIPEAILNLPHLRSLDMSSNDIQYLPGPAHWKSLNLRELLFSHNQISILDLSEKAYLWSRVEKLHLSHNKLKEIPPEIGCLENLTSLDVSYNLELRSFPNEMGKLSKIWDLPLDELHLNFDFKHIGCKAKDIIRFLQQRLKKAVPYNRMKLMIVGNTGSGKTTLLQQLMKTKKSDLGMQSATVGIDVKDWPIQIRDKRKRDLVLNVWDFAGREEFYSTHPHFMTQRALYLAVYDLSKGQAEVDAMKPWLFNIKARASSSPVILVGTHLDVSDEKQRKACMSKITKELLNKRGFPAIRDYHFVNATEESDALAKLRKTIINESLNFKIRDQLVVGQLIPDCYVELEKIILSERKNVPIEFPVIDRKRLLQLVRENQLQLDENELPHAVHFLNESGVLLHFQDPALQLSDLYFVEPKWLCKIMAQILTVKVEGCPKHPKGIISRRDVEKFLSKKRKFPKNYMSQYFKLLEKFQIALPIGEEYLLVPSSLSDHRPVIELPHCENSEIIIRLYEMPYFPMGFWSRLINRLLEISPYMLSGRERALRPNRMYWRQGIYLNWSPEAYCLVGSEVLDNHPESFLKITVPSCRKGCILLGQVVDHIDSLMEEWFPGLLEIDICGEGETLLKKWALYSFNDGEEHQKILLDDLMKKAEEGDLLVNPDQPRLTIPISQIAPDLILADLPRNIMLNNDELEFEQAPEFLLGDGSFGSVYRAAYEGEEVAVKIFNKHTSLRLLRQELVVLCHLHHPSLISLLAAGIRPRMLVMELASKGSLDRLLQQDKASLTRTLQHRIALHVADGLRYLHSAMIIYRDLKPHNVLLFTLYPNAAIIAKIADYGIAQYCCRMGIKTSEGTPGFRAPEVARGNVIYNQQADVYSFGLLLYDILTTGGRIVEGLKFPNEFDELEIQGKLPDPVKEYGCAPWPMVEKLIKQCLKENPQERPTSAQVFDILNSAELVCLTRRILLPKNVIVECMVATHHNSRNASIWLGCGHTDRGQLSFLDLNTEGYTSEEVADSRILCLALVHLPVEKESWIVSGTQSGTLLVINTEDGKKRHTLEKMTDSVTCLYCNSFSKQSKQKNFLLVGTADGKLAIFEDKTVKLKGAAPLKILNIGNVSTPLMCLSESTNSTERNVMWGGCGTKIFSFSNDFTIQKLIETRTSQLFSYAAFSDSNIITVVVDTALYIAKQNSPVVEVWDKKTEKLCGLIDCVHFLREVMVKENKESKHKMSYSGRVKTLCLQKNTALWIGTGGGHILLLDLSTRRLIRVIYNFCNSVRVMMTAQLGSLKNVMLVLGYNRKNTEGTQKQKEIQSCLTVWDINLPHEVQNLEKHIEVRKELAEKMRRTSVE\"   #create a string using double quotation marks"
   ]
  },
  {
   "cell_type": "code",
   "execution_count": 2,
   "id": "51400a8c-591b-4acc-99a2-884ebb555640",
   "metadata": {},
   "outputs": [
    {
     "name": "stdout",
     "output_type": "stream",
     "text": [
      "This variable has data type <class 'str'> . The length of the sequence is 2527 residues . Trp appears 26 times . Amino acid 2019 is a G . The sequence of the LRRK2 kinase domain is QAPEFLLGDGSFGSVYRAAYEGEEVAVKIFNKHTSLRLLRQELVVLCHLHHPSLISLLAAGIRPRMLVMELASKGSLDRLLQQDKASLTRTLQHRIALHVADGLRYLHSAMIIYRDLKPHNVLLFTLYPNAAIIAKIADYGIAQYCCRMGIKTSEGTPGFRAPEVARGNVIYNQQADVYSFGLLLYDILTTGGRIVEGLKFPNEFDELEIQGKLPDPVKEYGCAPWPMVEKLIKQCLKENPQERPTSAQVFDILNSAELV .\n"
     ]
    }
   ],
   "source": [
    "type_protseqLRRK2 = type(protseqLRRK2)   #determine the data type\n",
    "len_protseqLRRK2 = len(protseqLRRK2)   #determine the length of the string\n",
    "Wcount_protseqLRRK2 = protseqLRRK2.count(\"W\")   #count the number of times W appears in the string\n",
    "res2019_protseqLRRK2 = protseqLRRK2[2018]   #select residue 2019 (2018 as the first item has index 0)\n",
    "kinase_protseqLRRK2 = protseqLRRK2[1878:2138]   #select residues 1879 (1878 as the first item has index 0) to 2138 (the first item has index 0; however, it goes up to but does not include item 2138)\n",
    "\n",
    "print(\"This variable has data type\", type_protseqLRRK2, \".\", \n",
    "      \"The length of the sequence is\", len_protseqLRRK2, \"residues .\",\n",
    "      \"Trp appears\", Wcount_protseqLRRK2, \"times .\",\n",
    "      \"Amino acid 2019 is a\", res2019_protseqLRRK2, \".\",\n",
    "      \"The sequence of the LRRK2 kinase domain is\", kinase_protseqLRRK2, \".\")   #Print and place all values that we calculated in a readable sentence. The print function can take more than one object. By default, it separates objects with a space."
   ]
  },
  {
   "cell_type": "markdown",
   "id": "b3f8b573-c3fc-432a-8e1e-62ea661b05df",
   "metadata": {},
   "source": [
    "```{Admonition} Example\n",
    ":class: note\n",
    "Determine the number of “key : value” pairs in the following dictionary with genetic codes, with key = code and value = amino acid. Retrieve the genetic code translation for TTC.\n",
    "```"
   ]
  },
  {
   "cell_type": "code",
   "execution_count": 3,
   "id": "75bb30a5-9da6-40b4-98d8-fc3f870660f5",
   "metadata": {},
   "outputs": [],
   "source": [
    "GeneticCode = { \n",
    "        'ATA':'I', 'ATC':'I', 'ATT':'I', 'ATG':'M', \n",
    "        'ACA':'T', 'ACC':'T', 'ACG':'T', 'ACT':'T', \n",
    "        'AAC':'N', 'AAT':'N', 'AAA':'K', 'AAG':'K', \n",
    "        'AGC':'S', 'AGT':'S', 'AGA':'R', 'AGG':'R',                  \n",
    "        'CTA':'L', 'CTC':'L', 'CTG':'L', 'CTT':'L', \n",
    "        'CCA':'P', 'CCC':'P', 'CCG':'P', 'CCT':'P', \n",
    "        'CAC':'H', 'CAT':'H', 'CAA':'Q', 'CAG':'Q', \n",
    "        'CGA':'R', 'CGC':'R', 'CGG':'R', 'CGT':'R', \n",
    "        'GTA':'V', 'GTC':'V', 'GTG':'V', 'GTT':'V', \n",
    "        'GCA':'A', 'GCC':'A', 'GCG':'A', 'GCT':'A', \n",
    "        'GAC':'D', 'GAT':'D', 'GAA':'E', 'GAG':'E', \n",
    "        'GGA':'G', 'GGC':'G', 'GGG':'G', 'GGT':'G', \n",
    "        'TCA':'S', 'TCC':'S', 'TCG':'S', 'TCT':'S', \n",
    "        'TTC':'F', 'TTT':'F', 'TTA':'L', 'TTG':'L', \n",
    "        'TAC':'Y', 'TAT':'Y', 'TAA':'_', 'TAG':'_', \n",
    "        'TGC':'C', 'TGT':'C', 'TGA':'_', 'TGG':'W', \n",
    "    } "
   ]
  },
  {
   "cell_type": "code",
   "execution_count": 4,
   "id": "82152c47-a84d-4311-9b4a-6ae2cbd5ec91",
   "metadata": {},
   "outputs": [
    {
     "name": "stdout",
     "output_type": "stream",
     "text": [
      "This dictionary contains 64 pairs . The genetic code translation stored for TTC is F .\n"
     ]
    }
   ],
   "source": [
    "len_GeneticCode = len(GeneticCode)   #determine the length of the dictionary\n",
    "\n",
    "GeneticCode_TTC = GeneticCode.get('TTC')   #look up the cleavage site stored for NotI\n",
    "\n",
    "print(\"This dictionary contains\", len_GeneticCode, \"pairs .\",\n",
    "      \"The genetic code translation stored for TTC is\", GeneticCode_TTC, \".\")   #Print and place all values that we calculated in a readable sentence. The print function can take more than one object. By default, it separates objects with a space."
   ]
  },
  {
   "cell_type": "markdown",
   "id": "15c72b60-f3c1-4600-b99e-e51c04b9162a",
   "metadata": {},
   "source": [
    "```{Admonition} Example\n",
    ":class: note\n",
    "Determine the data type and length for this list with amino acids. Sort the list in alphabetical order.\n",
    "```"
   ]
  },
  {
   "cell_type": "code",
   "execution_count": 5,
   "id": "43329e4f-5378-4bab-9c4b-e39ef10089da",
   "metadata": {},
   "outputs": [],
   "source": [
    "AA3Letter = [\"ALA\", \"ARG\", \"ASN\", \"ASP\", \"CYS\", \"GLN\", \"GLU\", \"GLY\", \"HIS\", \"ILE\", \"LEU\", \"LYS\", \"MET\", \"PHE\", \"PRO\", \"SER\", \"THR\", \"TRP\", \"TYR\", \"VAL\"]"
   ]
  },
  {
   "cell_type": "code",
   "execution_count": 6,
   "id": "ec5e423e-e532-40f4-a860-13a165460d7b",
   "metadata": {},
   "outputs": [
    {
     "name": "stdout",
     "output_type": "stream",
     "text": [
      "This variable has data type <class 'list'> . This list contains 20 amino acids . After sorting the concentrations in ascending order, this list becomes ['ALA', 'ARG', 'ASN', 'ASP', 'CYS', 'GLN', 'GLU', 'GLY', 'HIS', 'ILE', 'LEU', 'LYS', 'MET', 'PHE', 'PRO', 'SER', 'THR', 'TRP', 'TYR', 'VAL'] .\n"
     ]
    }
   ],
   "source": [
    "type_AA3Letter = type(AA3Letter)   #determine and print the data type\n",
    "\n",
    "len_AA3Letter = len(AA3Letter)   #determine the length of the list\n",
    "AA3Lettersorted = sorted(AA3Letter, key=str.lower)   #sort the list in ascending order\n",
    "\n",
    "print(\"This variable has data type\", type_AA3Letter, \".\", \n",
    "      \"This list contains\", len_AA3Letter, \"amino acids .\",\n",
    "      \"After sorting the concentrations in ascending order, this list becomes\", AA3Lettersorted, \".\")   #Print and place all values that we calculated in a readable sentence. The print function can take more than one object. By default, it separates objects with a space."
   ]
  },
  {
   "cell_type": "markdown",
   "id": "3f69daf0-435a-4185-9824-cf49d2177df6",
   "metadata": {},
   "source": [
    "## <span style=\"color:blue\">Exercises</span> ##\n",
    "---"
   ]
  },
  {
   "cell_type": "markdown",
   "id": "bbf82e92-6af1-4695-9eb0-95014ebe8c99",
   "metadata": {},
   "source": [
    "```{admonition} Exercise\n",
    "Define the EcoRI DNA recognition sequence (GAATTC) as a string. Determine length and number of adenine bases for this sequence.\n",
    "```"
   ]
  },
  {
   "cell_type": "markdown",
   "id": "234b8f7d-3be4-4de5-8150-df39627d5322",
   "metadata": {},
   "source": [
    "````{admonition} Solution\n",
    ":class: dropdown\n",
    "\n",
    "Here's one possible solution.\n",
    "\n",
    "```{code-block} python\n",
    "DNAseqEcoRI = \"GAATTC\"   #create a string using double quotation marks\n",
    "\n",
    "len_DNAseqEcoRI = len(DNAseqEcoRI)   #determine the length of the string\n",
    "Acount_DNAseqEcoRI = DNAseqEcoRI.count(\"A\")   #count the number of times A appears in the string\n",
    "\n",
    "print(\"The length of the sequence is\", len_DNAseqEcoRI, \"residues .\",\n",
    "      \"Adenosine appears\", Acount_DNAseqEcoRI, \"times .\")   #Print and place all values that we calculated in a readable sentence. The print function can take more than one object. By default, it separates objects with a space.\n",
    "```\n",
    "````"
   ]
  },
  {
   "cell_type": "markdown",
   "id": "511a3999-f1a4-4238-a01a-b1d4a91b5e4e",
   "metadata": {},
   "source": [
    "```{admonition} Exercise\n",
    "Calculate the melting temperature of the primer with sequence “GACTGCGTTAGGATTGGC”. The melting temperature (°C) can be computed as 64.9 + 41 x (GC - 16.4)/N, with GC the total number of G and C bases in the primer and N the primer length.\n",
    "```"
   ]
  },
  {
   "cell_type": "markdown",
   "id": "e9f845ce-693c-49f3-ab47-19d4d28f5813",
   "metadata": {},
   "source": [
    "````{admonition} Solution\n",
    ":class: dropdown\n",
    "\n",
    "Here's one possible solution.\n",
    "\n",
    "```{code-block} python\n",
    "primer = \"GACTGCGTTAGGATTGGC\"   #create a string using double quotation marks\n",
    "\n",
    "N_primer = len(primer)   #determine the length of the string\n",
    "G_primer = primer.count(\"G\")   #count the number of times G appears in the string\n",
    "C_primer = primer.count(\"C\")   #count the number of times C appears in the string\n",
    "GC_primer = G_primer + C_primer   #calculate the number of times G and C appear in the string\n",
    "\n",
    "Tm_primer = 64.9 + 41 * (GC_primer - 16.4)/N_primer   #calculate the melting temperature using the formula\n",
    "\n",
    "print(\"The melting temperature for primer\", primer, \"is\", Tm_primer, \"°C .\")   #Print and place all values that we calculated in a readable sentence. The print function can take more than one object. By default, it separates objects with a space.\n",
    "```\n",
    "````"
   ]
  },
  {
   "cell_type": "markdown",
   "id": "3ce4fda5-c2de-4893-a238-d71afeb142cb",
   "metadata": {},
   "source": [
    "````{admonition} Exercise\n",
    "Determine the data type and length for this list with substrate concentrations. Sort the list in ascending order.\n",
    "\n",
    "```{code-block} python\n",
    "subconc = [1, 4, 500, 0, 15, 250, 30, 125, 2, 8, 60]\n",
    "```\n",
    "````"
   ]
  },
  {
   "cell_type": "markdown",
   "id": "2431396b-3410-484b-af72-a9d28530c996",
   "metadata": {},
   "source": [
    "````{admonition} Solution\n",
    ":class: dropdown\n",
    "\n",
    "Here's one possible solution.\n",
    "\n",
    "```{code-block} python\n",
    "type_subconc = type(subconc)   #determine and print the data type\n",
    "\n",
    "len_subconc = len(subconc)   #determine the length of the list\n",
    "subconcsorted = sorted(subconc)   #sort the list in ascending order\n",
    "\n",
    "print(\"This variable has data type\", type_subconc, \".\", \n",
    "      \"This list contains\", len_subconc, \"concentrations .\",\n",
    "      \"After sorting the concentrations in ascending order, this list becomes\", subconcsorted, \".\")   #Print and place all values that we calculated in a readable sentence. The print function can take more than one object. By default, it separates objects with a space.\n",
    "```\n",
    "````"
   ]
  },
  {
   "cell_type": "markdown",
   "id": "335456c3-6955-42a7-9978-2ff9cbeeaf4b",
   "metadata": {},
   "source": [
    "````{admonition} Exercise\n",
    "Determine the number of “key : value” pairs in the following dictionary of restriction enzymes, with key = name and value = cleavage site. Retrieve the cleavage site for NotI.\n",
    "\n",
    "```{code-block} python\n",
    "REs = {\n",
    "    'EcoRI' : 'GAATTC',\n",
    "    'BamHI' : 'GGATCC',\n",
    "    'EarI' : 'CTCTTC',\n",
    "    'ScaI' : 'AGTACT',\n",
    "    'NotI' : 'GCGGCCGC',\n",
    "    'TaqI' : 'TCGA',\n",
    "    'FokI' : 'GGATG',\n",
    "    'HindIII' : 'AAGCTT'\n",
    "    }   #Create a dictionary with restriction enzyme names (keys) and cleavage sites (values). Both are strings.\n",
    "```\n",
    "````"
   ]
  },
  {
   "cell_type": "markdown",
   "id": "90a26541-fb26-43bd-85f9-b4d39b8d6dc8",
   "metadata": {},
   "source": [
    "````{admonition} Solution\n",
    ":class: dropdown\n",
    "\n",
    "Here's one possible solution.\n",
    "\n",
    "```{code-block} python\n",
    "DNAseqEcoRI = \"GAATTC\"   #create a string using double quotation marks\n",
    "\n",
    "len_DNAseqEcoRI = len(DNAseqEcoRI)   #determine the length of the string\n",
    "Acount_DNAseqEcoRI = DNAseqEcoRI.count(\"A\")   #count the number of times A appears in the string\n",
    "\n",
    "print(\"The length of the sequence is\", len_DNAseqEcoRI, \"residues .\",\n",
    "      \"Adenosine appears\", Acount_DNAseqEcoRI, \"times .\")   #Print and place all values that we calculated in a readable sentence. The print function can take more than one object. By default, it separates objects with a space.\n",
    "```\n",
    "````"
   ]
  }
 ],
 "metadata": {
  "kernelspec": {
   "display_name": "Python 3 (ipykernel)",
   "language": "python",
   "name": "python3"
  },
  "language_info": {
   "codemirror_mode": {
    "name": "ipython",
    "version": 3
   },
   "file_extension": ".py",
   "mimetype": "text/x-python",
   "name": "python",
   "nbconvert_exporter": "python",
   "pygments_lexer": "ipython3",
   "version": "3.12.3"
  }
 },
 "nbformat": 4,
 "nbformat_minor": 5
}
