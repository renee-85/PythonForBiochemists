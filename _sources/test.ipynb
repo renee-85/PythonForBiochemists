{
 "cells": [
  {
   "cell_type": "markdown",
   "id": "2571d398-5f65-418f-bf4f-76b8597e13c9",
   "metadata": {},
   "source": [
    "# TEST"
   ]
  },
  {
   "cell_type": "markdown",
   "id": "5daf3ffc-6b3f-474e-9351-53d73b1f4f6a",
   "metadata": {},
   "source": [
    "```{exercise}\n",
    ":label:test-exercise\n",
    "\n",
    "test text\n",
    "```"
   ]
  },
  {
   "cell_type": "markdown",
   "id": "94e25104-a972-44c5-8da5-9c0bd16088ed",
   "metadata": {},
   "source": [
    "````{solution} test-exercise\n",
    ":label: test-solution\n",
    ":class: dropdown\n",
    "\n",
    "Here's one possible solution.\n",
    "\n",
    "```{code-block} python\n",
    "some test code\n",
    "```\n",
    "````"
   ]
  },
  {
   "cell_type": "markdown",
   "id": "146ad155-6a3f-4875-a525-1be5fb232121",
   "metadata": {},
   "source": [
    "```{admonition} Exercise\n",
    ":class: tip\r",
    "test textt\r\n",
    "```"
   ]
  },
  {
   "cell_type": "markdown",
   "id": "bf5bbbd7-faa9-4843-a224-32febb7b9166",
   "metadata": {},
   "source": [
    "````{admonition} Solution\n",
    ":class: tip\n",
    ":class: dropdown\n",
    "\r",
    "test text\n",
    "\n",
    "```{code-block} python\n",
    "some test code\n",
    "```\n",
    "\r\n",
    "````"
   ]
  }
 ],
 "metadata": {
  "kernelspec": {
   "display_name": "Python 3 (ipykernel)",
   "language": "python",
   "name": "python3"
  },
  "language_info": {
   "codemirror_mode": {
    "name": "ipython",
    "version": 3
   },
   "file_extension": ".py",
   "mimetype": "text/x-python",
   "name": "python",
   "nbconvert_exporter": "python",
   "pygments_lexer": "ipython3",
   "version": "3.12.3"
  }
 },
 "nbformat": 4,
 "nbformat_minor": 5
}
