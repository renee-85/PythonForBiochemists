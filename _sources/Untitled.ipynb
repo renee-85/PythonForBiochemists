{
 "cells": [
  {
   "cell_type": "markdown",
   "id": "2571d398-5f65-418f-bf4f-76b8597e13c9",
   "metadata": {},
   "source": [
    "# TEST"
   ]
  },
  {
   "cell_type": "markdown",
   "id": "5daf3ffc-6b3f-474e-9351-53d73b1f4f6a",
   "metadata": {},
   "source": [
    "```{exercise}\n",
    ":label:my1-exercise1\n",
    ":nonumber:\n",
    "\n",
    "You need 250 ml 50 mM NaCl. You have a 2 M NaCl stock solution. How many ml of 2 M NaCl do you need?\n",
    "\n",
    "```"
   ]
  },
  {
   "cell_type": "markdown",
   "id": "94e25104-a972-44c5-8da5-9c0bd16088ed",
   "metadata": {},
   "source": [
    "````{solution} my1-exercise1\n",
    ":label: my1-solution1\n",
    ":class: dropdown\n",
    "\n",
    "Here's one possible solution.\n",
    "\n",
    "```{code-block} python\n",
    "Vfinal = 0.25   #l\n",
    "Cfinal = 0.05   #mol/l\n",
    "Cinitial = 2   #mol/l\n",
    "\n",
    "Vinitial = (Cfinal * Vfinal) / Cinitial   #(l * mol/l) / mol/l = l\n",
    "Vinitialml = Vinitial*1000   #l/1000 = ml\n",
    "\n",
    "print(Vinitialml)   #print the value that we calculated\n",
    "```\n",
    "````"
   ]
  }
 ],
 "metadata": {
  "kernelspec": {
   "display_name": "Python 3 (ipykernel)",
   "language": "python",
   "name": "python3"
  },
  "language_info": {
   "codemirror_mode": {
    "name": "ipython",
    "version": 3
   },
   "file_extension": ".py",
   "mimetype": "text/x-python",
   "name": "python",
   "nbconvert_exporter": "python",
   "pygments_lexer": "ipython3",
   "version": "3.12.3"
  }
 },
 "nbformat": 4,
 "nbformat_minor": 5
}
